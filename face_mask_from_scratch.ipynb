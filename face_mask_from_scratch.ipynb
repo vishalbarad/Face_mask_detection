{
  "nbformat": 4,
  "nbformat_minor": 0,
  "metadata": {
    "colab": {
      "name": "face_mask_from_scratch.ipynb",
      "provenance": [],
      "collapsed_sections": []
    },
    "kernelspec": {
      "name": "python3",
      "display_name": "Python 3"
    },
    "accelerator": "GPU"
  },
  "cells": [
    {
      "cell_type": "code",
      "metadata": {
        "id": "dA4-V1ITvtMX"
      },
      "source": [
        "#import libraries\n",
        "import keras\n",
        "from keras.preprocessing.image import ImageDataGenerator\n",
        "from keras.optimizers import Adam\n",
        "from keras.callbacks import ModelCheckpoint\n",
        "import matplotlib.pyplot as plt\n",
        "import tensorflow"
      ],
      "execution_count": 16,
      "outputs": []
    },
    {
      "cell_type": "code",
      "metadata": {
        "id": "N8EgJbEGw7x2"
      },
      "source": [
        "train_data_path = '/content/drive/My Drive/Face_mask_detection/dataset/train'\n",
        "validation_data_path = '/content/drive/My Drive/Face_mask_detection/dataset/valid'"
      ],
      "execution_count": 10,
      "outputs": []
    },
    {
      "cell_type": "code",
      "metadata": {
        "id": "UnPVEyvXw-ex",
        "outputId": "36c2e8ad-89bb-447a-8c94-01c6002b5f09",
        "colab": {
          "base_uri": "https://localhost:8080/",
          "height": 34
        }
      },
      "source": [
        "training_datagen = ImageDataGenerator(rescale=1./255,\n",
        "                                      rotation_range=40,\n",
        "                                      width_shift_range=0.2,\n",
        "                                      height_shift_range=0.2,\n",
        "                                      shear_range=0.2,\n",
        "                                      zoom_range=0.2,\n",
        "                                      horizontal_flip=True,\n",
        "                                      fill_mode='nearest')\n",
        " \n",
        "\n",
        "training_data = training_datagen.flow_from_directory(train_data_path, # this is the target directory\n",
        "                                      target_size=(200, 200), # all images will be resized to 150x150\n",
        "                                      batch_size=128,\n",
        "                                      class_mode='binary')  # since we use binary_crossentropy loss, we need binary labels"
      ],
      "execution_count": 11,
      "outputs": [
        {
          "output_type": "stream",
          "text": [
            "Found 3649 images belonging to 2 classes.\n"
          ],
          "name": "stdout"
        }
      ]
    },
    {
      "cell_type": "code",
      "metadata": {
        "id": "AgeX_kjExCGB",
        "outputId": "806e0268-b7a7-43c9-b91c-05ef1a8dabd4",
        "colab": {
          "base_uri": "https://localhost:8080/",
          "height": 34
        }
      },
      "source": [
        "training_data.class_indices"
      ],
      "execution_count": 12,
      "outputs": [
        {
          "output_type": "execute_result",
          "data": {
            "text/plain": [
              "{'with_mask': 0, 'without_mask': 1}"
            ]
          },
          "metadata": {
            "tags": []
          },
          "execution_count": 12
        }
      ]
    },
    {
      "cell_type": "code",
      "metadata": {
        "id": "WgAWcNvhxElp",
        "outputId": "922f6fc6-f859-4f5e-caec-6f869fbe0d03",
        "colab": {
          "base_uri": "https://localhost:8080/",
          "height": 34
        }
      },
      "source": [
        "valid_datagen = ImageDataGenerator(rescale=1./255)\n",
        " \n",
        "# this is a similar generator, for validation data\n",
        "valid_data = valid_datagen.flow_from_directory(validation_data_path,\n",
        "                                  target_size=(200,200),\n",
        "                                  batch_size=128,\n",
        "                                  class_mode='binary')\n",
        " \n",
        "\n",
        " \n",
        "# save best model using vall accuracy\n",
        "model_path = '/content/drive/My Drive/Face_mask_detection/Models/Face_mask_scratch.h5'\n",
        "checkpoint = ModelCheckpoint(model_path, monitor='val_accuracy', verbose=1, save_best_only=True, mode='max')\n",
        "callbacks_list = [checkpoint]"
      ],
      "execution_count": 13,
      "outputs": [
        {
          "output_type": "stream",
          "text": [
            "Found 806 images belonging to 2 classes.\n"
          ],
          "name": "stdout"
        }
      ]
    },
    {
      "cell_type": "code",
      "metadata": {
        "id": "Gsr5CNyUxL6I"
      },
      "source": [
        "#Building cnn model\n",
        "cnn_model = keras.models.Sequential([\n",
        "                                    keras.layers.Conv2D(filters=32, kernel_size=5, input_shape=[200, 200, 3]),\n",
        "                                    keras.layers.MaxPooling2D(pool_size=(4,4)),\n",
        "                                    keras.layers.Conv2D(filters=64, kernel_size=4),\n",
        "                                    keras.layers.MaxPooling2D(pool_size=(3,3)),\n",
        "                                    keras.layers.Conv2D(filters=128, kernel_size=3),\n",
        "                                    keras.layers.MaxPooling2D(pool_size=(2,2)),                                    \n",
        "                                    keras.layers.Conv2D(filters=256, kernel_size=2),\n",
        "                                    keras.layers.MaxPooling2D(pool_size=(2,2)),\n",
        " \n",
        "                                    keras.layers.Dropout(0.5),                                                                        \n",
        "                                    keras.layers.Flatten(), # neural network beulding\n",
        "                                    keras.layers.Dense(units=128, activation='relu'), # input layers\n",
        "                                    keras.layers.Dropout(0.1),                                    \n",
        "                                    keras.layers.Dense(units=256, activation='relu'),                                    \n",
        "                                    keras.layers.Dropout(0.25),                                    \n",
        "                                    keras.layers.Dense(units=2, activation='softmax') # output layer\n",
        "])"
      ],
      "execution_count": 14,
      "outputs": []
    },
    {
      "cell_type": "code",
      "metadata": {
        "id": "Eo8BANxAxOvI"
      },
      "source": [
        "# compile cnn model\n",
        "cnn_model.compile(optimizer = Adam(lr=0.001), loss='sparse_categorical_crossentropy', metrics=['accuracy'])"
      ],
      "execution_count": 15,
      "outputs": []
    },
    {
      "cell_type": "code",
      "metadata": {
        "id": "wBJ5K-tXxQdH",
        "outputId": "7c638f8e-b226-4c24-a9c0-fc77ba31f23c",
        "colab": {
          "base_uri": "https://localhost:8080/",
          "height": 1000
        }
      },
      "source": [
        "# train cnn model\n",
        "history = cnn_model.fit(training_data, \n",
        "                          epochs=50, \n",
        "                          verbose=1, \n",
        "                          validation_data= valid_data,\n",
        "                          callbacks=callbacks_list) # time start 14.25"
      ],
      "execution_count": 8,
      "outputs": [
        {
          "output_type": "stream",
          "text": [
            "/usr/local/lib/python3.6/dist-packages/PIL/Image.py:932: UserWarning: Palette images with Transparency expressed in bytes should be converted to RGBA images\n",
            "  \"Palette images with Transparency expressed in bytes should be \"\n"
          ],
          "name": "stderr"
        },
        {
          "output_type": "stream",
          "text": [
            "Epoch 1/50\n",
            "29/29 [==============================] - ETA: 0s - loss: 0.4875 - accuracy: 0.7616 \n",
            "Epoch 00001: val_accuracy improved from -inf to 0.92556, saving model to /content/drive/My Drive/Face_mask_detection/Models/Face_mask_scratch.h5\n",
            "29/29 [==============================] - 2040s 70s/step - loss: 0.4875 - accuracy: 0.7616 - val_loss: 0.2137 - val_accuracy: 0.9256\n",
            "Epoch 2/50\n",
            "29/29 [==============================] - ETA: 0s - loss: 0.3293 - accuracy: 0.8791\n",
            "Epoch 00002: val_accuracy improved from 0.92556 to 0.93672, saving model to /content/drive/My Drive/Face_mask_detection/Models/Face_mask_scratch.h5\n",
            "29/29 [==============================] - 47s 2s/step - loss: 0.3293 - accuracy: 0.8791 - val_loss: 0.1945 - val_accuracy: 0.9367\n",
            "Epoch 3/50\n",
            "29/29 [==============================] - ETA: 0s - loss: 0.3209 - accuracy: 0.8772\n",
            "Epoch 00003: val_accuracy improved from 0.93672 to 0.94045, saving model to /content/drive/My Drive/Face_mask_detection/Models/Face_mask_scratch.h5\n",
            "29/29 [==============================] - 48s 2s/step - loss: 0.3209 - accuracy: 0.8772 - val_loss: 0.1784 - val_accuracy: 0.9404\n",
            "Epoch 4/50\n",
            "29/29 [==============================] - ETA: 0s - loss: 0.2708 - accuracy: 0.9011\n",
            "Epoch 00004: val_accuracy did not improve from 0.94045\n",
            "29/29 [==============================] - 46s 2s/step - loss: 0.2708 - accuracy: 0.9011 - val_loss: 0.1665 - val_accuracy: 0.9380\n",
            "Epoch 5/50\n",
            "29/29 [==============================] - ETA: 0s - loss: 0.2596 - accuracy: 0.9008\n",
            "Epoch 00005: val_accuracy improved from 0.94045 to 0.95161, saving model to /content/drive/My Drive/Face_mask_detection/Models/Face_mask_scratch.h5\n",
            "29/29 [==============================] - 47s 2s/step - loss: 0.2596 - accuracy: 0.9008 - val_loss: 0.1407 - val_accuracy: 0.9516\n",
            "Epoch 6/50\n",
            "29/29 [==============================] - ETA: 0s - loss: 0.2560 - accuracy: 0.9112\n",
            "Epoch 00006: val_accuracy did not improve from 0.95161\n",
            "29/29 [==============================] - 46s 2s/step - loss: 0.2560 - accuracy: 0.9112 - val_loss: 0.1659 - val_accuracy: 0.9429\n",
            "Epoch 7/50\n",
            "29/29 [==============================] - ETA: 0s - loss: 0.2449 - accuracy: 0.9107\n",
            "Epoch 00007: val_accuracy did not improve from 0.95161\n",
            "29/29 [==============================] - 46s 2s/step - loss: 0.2449 - accuracy: 0.9107 - val_loss: 0.1471 - val_accuracy: 0.9467\n",
            "Epoch 8/50\n",
            "29/29 [==============================] - ETA: 0s - loss: 0.2392 - accuracy: 0.9142\n",
            "Epoch 00008: val_accuracy improved from 0.95161 to 0.96030, saving model to /content/drive/My Drive/Face_mask_detection/Models/Face_mask_scratch.h5\n",
            "29/29 [==============================] - 47s 2s/step - loss: 0.2392 - accuracy: 0.9142 - val_loss: 0.1397 - val_accuracy: 0.9603\n",
            "Epoch 9/50\n",
            "29/29 [==============================] - ETA: 0s - loss: 0.2589 - accuracy: 0.9090\n",
            "Epoch 00009: val_accuracy did not improve from 0.96030\n",
            "29/29 [==============================] - 46s 2s/step - loss: 0.2589 - accuracy: 0.9090 - val_loss: 0.1481 - val_accuracy: 0.9591\n",
            "Epoch 10/50\n",
            "29/29 [==============================] - ETA: 0s - loss: 0.2391 - accuracy: 0.9123\n",
            "Epoch 00010: val_accuracy did not improve from 0.96030\n",
            "29/29 [==============================] - 46s 2s/step - loss: 0.2391 - accuracy: 0.9123 - val_loss: 0.1568 - val_accuracy: 0.9504\n",
            "Epoch 11/50\n",
            "29/29 [==============================] - ETA: 0s - loss: 0.2605 - accuracy: 0.9052\n",
            "Epoch 00011: val_accuracy did not improve from 0.96030\n",
            "29/29 [==============================] - 46s 2s/step - loss: 0.2605 - accuracy: 0.9052 - val_loss: 0.1506 - val_accuracy: 0.9591\n",
            "Epoch 12/50\n",
            "29/29 [==============================] - ETA: 0s - loss: 0.2233 - accuracy: 0.9216\n",
            "Epoch 00012: val_accuracy did not improve from 0.96030\n",
            "29/29 [==============================] - 46s 2s/step - loss: 0.2233 - accuracy: 0.9216 - val_loss: 0.1205 - val_accuracy: 0.9578\n",
            "Epoch 13/50\n",
            "29/29 [==============================] - ETA: 0s - loss: 0.2202 - accuracy: 0.9181\n",
            "Epoch 00013: val_accuracy did not improve from 0.96030\n",
            "29/29 [==============================] - 45s 2s/step - loss: 0.2202 - accuracy: 0.9181 - val_loss: 0.1165 - val_accuracy: 0.9553\n",
            "Epoch 14/50\n",
            "29/29 [==============================] - ETA: 0s - loss: 0.2185 - accuracy: 0.9219\n",
            "Epoch 00014: val_accuracy did not improve from 0.96030\n",
            "29/29 [==============================] - 46s 2s/step - loss: 0.2185 - accuracy: 0.9219 - val_loss: 0.1334 - val_accuracy: 0.9578\n",
            "Epoch 15/50\n",
            "29/29 [==============================] - ETA: 0s - loss: 0.2153 - accuracy: 0.9208\n",
            "Epoch 00015: val_accuracy improved from 0.96030 to 0.96154, saving model to /content/drive/My Drive/Face_mask_detection/Models/Face_mask_scratch.h5\n",
            "29/29 [==============================] - 47s 2s/step - loss: 0.2153 - accuracy: 0.9208 - val_loss: 0.1028 - val_accuracy: 0.9615\n",
            "Epoch 16/50\n",
            "29/29 [==============================] - ETA: 0s - loss: 0.2163 - accuracy: 0.9208\n",
            "Epoch 00016: val_accuracy improved from 0.96154 to 0.96402, saving model to /content/drive/My Drive/Face_mask_detection/Models/Face_mask_scratch.h5\n",
            "29/29 [==============================] - 47s 2s/step - loss: 0.2163 - accuracy: 0.9208 - val_loss: 0.0959 - val_accuracy: 0.9640\n",
            "Epoch 17/50\n",
            "29/29 [==============================] - ETA: 0s - loss: 0.2058 - accuracy: 0.9268\n",
            "Epoch 00017: val_accuracy did not improve from 0.96402\n",
            "29/29 [==============================] - 46s 2s/step - loss: 0.2058 - accuracy: 0.9268 - val_loss: 0.1090 - val_accuracy: 0.9640\n",
            "Epoch 18/50\n",
            "29/29 [==============================] - ETA: 0s - loss: 0.1907 - accuracy: 0.9356\n",
            "Epoch 00018: val_accuracy improved from 0.96402 to 0.96650, saving model to /content/drive/My Drive/Face_mask_detection/Models/Face_mask_scratch.h5\n",
            "29/29 [==============================] - 46s 2s/step - loss: 0.1907 - accuracy: 0.9356 - val_loss: 0.0918 - val_accuracy: 0.9665\n",
            "Epoch 19/50\n",
            "29/29 [==============================] - ETA: 0s - loss: 0.1981 - accuracy: 0.9277\n",
            "Epoch 00019: val_accuracy did not improve from 0.96650\n",
            "29/29 [==============================] - 46s 2s/step - loss: 0.1981 - accuracy: 0.9277 - val_loss: 0.1032 - val_accuracy: 0.9640\n",
            "Epoch 20/50\n",
            "29/29 [==============================] - ETA: 0s - loss: 0.1923 - accuracy: 0.9282\n",
            "Epoch 00020: val_accuracy did not improve from 0.96650\n",
            "29/29 [==============================] - 45s 2s/step - loss: 0.1923 - accuracy: 0.9282 - val_loss: 0.1189 - val_accuracy: 0.9479\n",
            "Epoch 21/50\n",
            "29/29 [==============================] - ETA: 0s - loss: 0.1855 - accuracy: 0.9307\n",
            "Epoch 00021: val_accuracy improved from 0.96650 to 0.97022, saving model to /content/drive/My Drive/Face_mask_detection/Models/Face_mask_scratch.h5\n",
            "29/29 [==============================] - 46s 2s/step - loss: 0.1855 - accuracy: 0.9307 - val_loss: 0.0925 - val_accuracy: 0.9702\n",
            "Epoch 22/50\n",
            "29/29 [==============================] - ETA: 0s - loss: 0.1850 - accuracy: 0.9329\n",
            "Epoch 00022: val_accuracy did not improve from 0.97022\n",
            "29/29 [==============================] - 45s 2s/step - loss: 0.1850 - accuracy: 0.9329 - val_loss: 0.1069 - val_accuracy: 0.9529\n",
            "Epoch 23/50\n",
            "29/29 [==============================] - ETA: 0s - loss: 0.1874 - accuracy: 0.9285\n",
            "Epoch 00023: val_accuracy did not improve from 0.97022\n",
            "29/29 [==============================] - 44s 2s/step - loss: 0.1874 - accuracy: 0.9285 - val_loss: 0.1037 - val_accuracy: 0.9578\n",
            "Epoch 24/50\n",
            "29/29 [==============================] - ETA: 0s - loss: 0.1736 - accuracy: 0.9383\n",
            "Epoch 00024: val_accuracy improved from 0.97022 to 0.97146, saving model to /content/drive/My Drive/Face_mask_detection/Models/Face_mask_scratch.h5\n",
            "29/29 [==============================] - 45s 2s/step - loss: 0.1736 - accuracy: 0.9383 - val_loss: 0.0806 - val_accuracy: 0.9715\n",
            "Epoch 25/50\n",
            "29/29 [==============================] - ETA: 0s - loss: 0.1926 - accuracy: 0.9337\n",
            "Epoch 00025: val_accuracy did not improve from 0.97146\n",
            "29/29 [==============================] - 44s 2s/step - loss: 0.1926 - accuracy: 0.9337 - val_loss: 0.1079 - val_accuracy: 0.9566\n",
            "Epoch 26/50\n",
            "29/29 [==============================] - ETA: 0s - loss: 0.1771 - accuracy: 0.9367\n",
            "Epoch 00026: val_accuracy did not improve from 0.97146\n",
            "29/29 [==============================] - 45s 2s/step - loss: 0.1771 - accuracy: 0.9367 - val_loss: 0.0817 - val_accuracy: 0.9677\n",
            "Epoch 27/50\n",
            "29/29 [==============================] - ETA: 0s - loss: 0.1612 - accuracy: 0.9433\n",
            "Epoch 00027: val_accuracy improved from 0.97146 to 0.97270, saving model to /content/drive/My Drive/Face_mask_detection/Models/Face_mask_scratch.h5\n",
            "29/29 [==============================] - 46s 2s/step - loss: 0.1612 - accuracy: 0.9433 - val_loss: 0.0709 - val_accuracy: 0.9727\n",
            "Epoch 28/50\n",
            "29/29 [==============================] - ETA: 0s - loss: 0.1464 - accuracy: 0.9449\n",
            "Epoch 00028: val_accuracy did not improve from 0.97270\n",
            "29/29 [==============================] - 48s 2s/step - loss: 0.1464 - accuracy: 0.9449 - val_loss: 0.0677 - val_accuracy: 0.9727\n",
            "Epoch 29/50\n",
            "29/29 [==============================] - ETA: 0s - loss: 0.1549 - accuracy: 0.9446\n",
            "Epoch 00029: val_accuracy improved from 0.97270 to 0.97395, saving model to /content/drive/My Drive/Face_mask_detection/Models/Face_mask_scratch.h5\n",
            "29/29 [==============================] - 49s 2s/step - loss: 0.1549 - accuracy: 0.9446 - val_loss: 0.0770 - val_accuracy: 0.9739\n",
            "Epoch 30/50\n",
            "29/29 [==============================] - ETA: 0s - loss: 0.1657 - accuracy: 0.9381\n",
            "Epoch 00030: val_accuracy did not improve from 0.97395\n",
            "29/29 [==============================] - 44s 2s/step - loss: 0.1657 - accuracy: 0.9381 - val_loss: 0.0800 - val_accuracy: 0.9715\n",
            "Epoch 31/50\n",
            "29/29 [==============================] - ETA: 0s - loss: 0.1603 - accuracy: 0.9411\n",
            "Epoch 00031: val_accuracy did not improve from 0.97395\n",
            "29/29 [==============================] - 45s 2s/step - loss: 0.1603 - accuracy: 0.9411 - val_loss: 0.0762 - val_accuracy: 0.9702\n",
            "Epoch 32/50\n",
            "29/29 [==============================] - ETA: 0s - loss: 0.1552 - accuracy: 0.9430\n",
            "Epoch 00032: val_accuracy did not improve from 0.97395\n",
            "29/29 [==============================] - 48s 2s/step - loss: 0.1552 - accuracy: 0.9430 - val_loss: 0.0786 - val_accuracy: 0.9727\n",
            "Epoch 33/50\n",
            "29/29 [==============================] - ETA: 0s - loss: 0.1367 - accuracy: 0.9509\n",
            "Epoch 00033: val_accuracy improved from 0.97395 to 0.97643, saving model to /content/drive/My Drive/Face_mask_detection/Models/Face_mask_scratch.h5\n",
            "29/29 [==============================] - 50s 2s/step - loss: 0.1367 - accuracy: 0.9509 - val_loss: 0.0738 - val_accuracy: 0.9764\n",
            "Epoch 34/50\n",
            "29/29 [==============================] - ETA: 0s - loss: 0.1398 - accuracy: 0.9479\n",
            "Epoch 00034: val_accuracy improved from 0.97643 to 0.97891, saving model to /content/drive/My Drive/Face_mask_detection/Models/Face_mask_scratch.h5\n",
            "29/29 [==============================] - 48s 2s/step - loss: 0.1398 - accuracy: 0.9479 - val_loss: 0.0593 - val_accuracy: 0.9789\n",
            "Epoch 35/50\n",
            "29/29 [==============================] - ETA: 0s - loss: 0.1311 - accuracy: 0.9515\n",
            "Epoch 00035: val_accuracy improved from 0.97891 to 0.98263, saving model to /content/drive/My Drive/Face_mask_detection/Models/Face_mask_scratch.h5\n",
            "29/29 [==============================] - 48s 2s/step - loss: 0.1311 - accuracy: 0.9515 - val_loss: 0.0547 - val_accuracy: 0.9826\n",
            "Epoch 36/50\n",
            "29/29 [==============================] - ETA: 0s - loss: 0.1610 - accuracy: 0.9381\n",
            "Epoch 00036: val_accuracy did not improve from 0.98263\n",
            "29/29 [==============================] - 46s 2s/step - loss: 0.1610 - accuracy: 0.9381 - val_loss: 0.1035 - val_accuracy: 0.9615\n",
            "Epoch 37/50\n",
            "29/29 [==============================] - ETA: 0s - loss: 0.1380 - accuracy: 0.9542\n",
            "Epoch 00037: val_accuracy did not improve from 0.98263\n",
            "29/29 [==============================] - 46s 2s/step - loss: 0.1380 - accuracy: 0.9542 - val_loss: 0.0600 - val_accuracy: 0.9801\n",
            "Epoch 38/50\n",
            "29/29 [==============================] - ETA: 0s - loss: 0.1310 - accuracy: 0.9542\n",
            "Epoch 00038: val_accuracy did not improve from 0.98263\n",
            "29/29 [==============================] - 46s 2s/step - loss: 0.1310 - accuracy: 0.9542 - val_loss: 0.0712 - val_accuracy: 0.9764\n",
            "Epoch 39/50\n",
            "29/29 [==============================] - ETA: 0s - loss: 0.1282 - accuracy: 0.9556\n",
            "Epoch 00039: val_accuracy did not improve from 0.98263\n",
            "29/29 [==============================] - 47s 2s/step - loss: 0.1282 - accuracy: 0.9556 - val_loss: 0.0613 - val_accuracy: 0.9764\n",
            "Epoch 40/50\n",
            "29/29 [==============================] - ETA: 0s - loss: 0.1436 - accuracy: 0.9485\n",
            "Epoch 00040: val_accuracy did not improve from 0.98263\n",
            "29/29 [==============================] - 46s 2s/step - loss: 0.1436 - accuracy: 0.9485 - val_loss: 0.0601 - val_accuracy: 0.9777\n",
            "Epoch 41/50\n",
            "29/29 [==============================] - ETA: 0s - loss: 0.1417 - accuracy: 0.9474\n",
            "Epoch 00041: val_accuracy did not improve from 0.98263\n",
            "29/29 [==============================] - 46s 2s/step - loss: 0.1417 - accuracy: 0.9474 - val_loss: 0.0618 - val_accuracy: 0.9801\n",
            "Epoch 42/50\n",
            "29/29 [==============================] - ETA: 0s - loss: 0.1504 - accuracy: 0.9490\n",
            "Epoch 00042: val_accuracy did not improve from 0.98263\n",
            "29/29 [==============================] - 46s 2s/step - loss: 0.1504 - accuracy: 0.9490 - val_loss: 0.0652 - val_accuracy: 0.9789\n",
            "Epoch 43/50\n",
            "29/29 [==============================] - ETA: 0s - loss: 0.1310 - accuracy: 0.9531\n",
            "Epoch 00043: val_accuracy did not improve from 0.98263\n",
            "29/29 [==============================] - 46s 2s/step - loss: 0.1310 - accuracy: 0.9531 - val_loss: 0.0685 - val_accuracy: 0.9752\n",
            "Epoch 44/50\n",
            "29/29 [==============================] - ETA: 0s - loss: 0.1186 - accuracy: 0.9586\n",
            "Epoch 00044: val_accuracy did not improve from 0.98263\n",
            "29/29 [==============================] - 46s 2s/step - loss: 0.1186 - accuracy: 0.9586 - val_loss: 0.0715 - val_accuracy: 0.9727\n",
            "Epoch 45/50\n",
            "29/29 [==============================] - ETA: 0s - loss: 0.1233 - accuracy: 0.9583\n",
            "Epoch 00045: val_accuracy improved from 0.98263 to 0.98387, saving model to /content/drive/My Drive/Face_mask_detection/Models/Face_mask_scratch.h5\n",
            "29/29 [==============================] - 47s 2s/step - loss: 0.1233 - accuracy: 0.9583 - val_loss: 0.0562 - val_accuracy: 0.9839\n",
            "Epoch 46/50\n",
            "29/29 [==============================] - ETA: 0s - loss: 0.1197 - accuracy: 0.9581\n",
            "Epoch 00046: val_accuracy did not improve from 0.98387\n",
            "29/29 [==============================] - 46s 2s/step - loss: 0.1197 - accuracy: 0.9581 - val_loss: 0.0466 - val_accuracy: 0.9814\n",
            "Epoch 47/50\n",
            "29/29 [==============================] - ETA: 0s - loss: 0.1315 - accuracy: 0.9520\n",
            "Epoch 00047: val_accuracy did not improve from 0.98387\n",
            "29/29 [==============================] - 46s 2s/step - loss: 0.1315 - accuracy: 0.9520 - val_loss: 0.0609 - val_accuracy: 0.9814\n",
            "Epoch 48/50\n",
            "29/29 [==============================] - ETA: 0s - loss: 0.1447 - accuracy: 0.9449\n",
            "Epoch 00048: val_accuracy did not improve from 0.98387\n",
            "29/29 [==============================] - 46s 2s/step - loss: 0.1447 - accuracy: 0.9449 - val_loss: 0.0509 - val_accuracy: 0.9839\n",
            "Epoch 49/50\n",
            "29/29 [==============================] - ETA: 0s - loss: 0.1166 - accuracy: 0.9578\n",
            "Epoch 00049: val_accuracy improved from 0.98387 to 0.98511, saving model to /content/drive/My Drive/Face_mask_detection/Models/Face_mask_scratch.h5\n",
            "29/29 [==============================] - 47s 2s/step - loss: 0.1166 - accuracy: 0.9578 - val_loss: 0.0489 - val_accuracy: 0.9851\n",
            "Epoch 50/50\n",
            "29/29 [==============================] - ETA: 0s - loss: 0.0996 - accuracy: 0.9622\n",
            "Epoch 00050: val_accuracy did not improve from 0.98511\n",
            "29/29 [==============================] - 46s 2s/step - loss: 0.0996 - accuracy: 0.9622 - val_loss: 0.0535 - val_accuracy: 0.9814\n"
          ],
          "name": "stdout"
        }
      ]
    },
    {
      "cell_type": "code",
      "metadata": {
        "id": "uXu22CUFxSx3"
      },
      "source": [
        "cnn_model.save('/content/drive/My Drive/Face_mask_detection/Models/final_Face_mask_scratch.h5')"
      ],
      "execution_count": 17,
      "outputs": []
    },
    {
      "cell_type": "code",
      "metadata": {
        "id": "kutvaOLMDAdS"
      },
      "source": [
        ""
      ],
      "execution_count": null,
      "outputs": []
    }
  ]
}